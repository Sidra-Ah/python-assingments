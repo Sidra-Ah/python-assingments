{
 "cells": [
  {
   "cell_type": "code",
   "execution_count": 3,
   "metadata": {},
   "outputs": [
    {
     "name": "stdout",
     "output_type": "stream",
     "text": [
      "english marks: 25\n",
      "urdu marks: 25\n",
      "computer marks: 28\n",
      "maths marks: 30\n",
      "science marks: 22\n",
      "130\n",
      "A+\n"
     ]
    }
   ],
   "source": [
    "#first task!\n",
    "\n",
    "eng =  input(\"english marks: \");\n",
    "urdu = input(\"urdu marks: \");\n",
    "comp = input(\"computer marks: \");\n",
    "math = input(\"maths marks: \");\n",
    "sci = input(\"science marks: \");\n",
    "total = eng + urdu + comp + math + sci\n",
    "print(total)\n",
    "if total >=120:\n",
    "    print(\"A+\")\n",
    "elif total < 120 and total >= 110:\n",
    "    print(\"A\")\n",
    "elif total < 110 and total >= 100:\n",
    "    print(\"B\")\n",
    "elif total <90 and total >= 100:\n",
    "    print(\"Fail\")"
   ]
  },
  {
   "cell_type": "code",
   "execution_count": 21,
   "metadata": {},
   "outputs": [
    {
     "name": "stdout",
     "output_type": "stream",
     "text": [
      "Enter a number: 5\n",
      "The given number is ODD\n"
     ]
    }
   ],
   "source": [
    "# second task!\n",
    "\n",
    "number =  input(\"Enter a number: \");\n",
    "if number % 2 == 0:\n",
    "    print(\"The given number is EVEN\")\n",
    "else:\n",
    "    print(\"The given number is ODD\");\n"
   ]
  },
  {
   "cell_type": "code",
   "execution_count": 18,
   "metadata": {},
   "outputs": [
    {
     "name": "stdout",
     "output_type": "stream",
     "text": [
      "3\n"
     ]
    }
   ],
   "source": [
    "# third task!\n",
    "arr = [\"one\", \"two\",\"three\"]\n",
    "print len(arr)"
   ]
  },
  {
   "cell_type": "code",
   "execution_count": 33,
   "metadata": {},
   "outputs": [
    {
     "name": "stdout",
     "output_type": "stream",
     "text": [
      "7\n"
     ]
    }
   ],
   "source": [
    "# fourth task!\n",
    "arr = [2, 4, 1]\n",
    "print sum(arr)"
   ]
  },
  {
   "cell_type": "code",
   "execution_count": 22,
   "metadata": {},
   "outputs": [
    {
     "name": "stdout",
     "output_type": "stream",
     "text": [
      "4\n"
     ]
    }
   ],
   "source": [
    "#fifth task!\n",
    "arr = [2, 4, 1]\n",
    "print max(arr)"
   ]
  },
  {
   "cell_type": "code",
   "execution_count": 40,
   "metadata": {},
   "outputs": [],
   "source": [
    "#sixth task!\n",
    "a = [1, 1, 2, 3, 5, 8, 13, 21, 34, 55, 89]\n"
   ]
  },
  {
   "cell_type": "code",
   "execution_count": null,
   "metadata": {},
   "outputs": [],
   "source": []
  },
  {
   "cell_type": "code",
   "execution_count": null,
   "metadata": {},
   "outputs": [],
   "source": []
  },
  {
   "cell_type": "code",
   "execution_count": null,
   "metadata": {},
   "outputs": [],
   "source": []
  }
 ],
 "metadata": {
  "kernelspec": {
   "display_name": "Python 2",
   "language": "python",
   "name": "python2"
  },
  "language_info": {
   "codemirror_mode": {
    "name": "ipython",
    "version": 2
   },
   "file_extension": ".py",
   "mimetype": "text/x-python",
   "name": "python",
   "nbconvert_exporter": "python",
   "pygments_lexer": "ipython2",
   "version": "2.7.16"
  }
 },
 "nbformat": 4,
 "nbformat_minor": 2
}
