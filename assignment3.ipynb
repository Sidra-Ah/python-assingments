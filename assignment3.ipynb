{
 "cells": [
  {
   "cell_type": "code",
   "execution_count": 66,
   "metadata": {},
   "outputs": [
    {
     "name": "stdout",
     "output_type": "stream",
     "text": [
      "Enter first value 1\n",
      "Enter second value 2\n",
      "Enter operator *\n"
     ]
    },
    {
     "ename": "SyntaxError",
     "evalue": "unexpected EOF while parsing (<string>, line 1)",
     "output_type": "error",
     "traceback": [
      "\u001b[1;36m  File \u001b[1;32m\"<string>\"\u001b[1;36m, line \u001b[1;32m1\u001b[0m\n\u001b[1;33m    *\u001b[0m\n\u001b[1;37m    ^\u001b[0m\n\u001b[1;31mSyntaxError\u001b[0m\u001b[1;31m:\u001b[0m unexpected EOF while parsing\n"
     ]
    }
   ],
   "source": [
    "#task1 calculator\n",
    "val1 = input('Enter first value ')\n",
    "val2 = input('Enter second value ')\n",
    "operator = input('Enter operator ')\n",
    "val1 = int(val1)\n",
    "val2 = int(val2)\n",
    "\n",
    "if operator == '+':\n",
    "    val = val1 + val2\n",
    "    print(val, 'answer')\n",
    "elif operator == '-':\n",
    "    val = val1 - val2\n",
    "    print(val,'answer')\n",
    "elif operator == '*':\n",
    "    val = val1 * val2\n",
    "    print(val,'answer')\n",
    "elif operator == '/':\n",
    "    val = val1 / val2\n",
    "    print(val,'answer')\n",
    "else: \n",
    "    print(\"Enter Correct Operator\")"
   ]
  },
  {
   "cell_type": "code",
   "execution_count": 37,
   "metadata": {},
   "outputs": [
    {
     "name": "stdout",
     "output_type": "stream",
     "text": [
      "Enter value: 1\n",
      "numeric value founded.\n"
     ]
    }
   ],
   "source": [
    "#task2 for loop\n",
    "mylist = [1, \"two\",\"three\", \"four\"]\n",
    "val = input('Enter value: ')\n",
    "for myVal in mylist:\n",
    "    if val == myVal:\n",
    "        print('numeric value founded.')\n",
    "        break\n",
    "    else:\n",
    "        print('Not founded')\n",
    "       \n",
    "        "
   ]
  },
  {
   "cell_type": "code",
   "execution_count": 41,
   "metadata": {},
   "outputs": [
    {
     "name": "stdout",
     "output_type": "stream",
     "text": [
      "{'last name': 'Ahmed', 'first name': 'Sidra', 'subject': 'python'}\n"
     ]
    }
   ],
   "source": [
    "#task3 add key to dictionary\n",
    "student = {\n",
    "    \"first name\": \"Sidra\",\n",
    "    \"last name\": \"Ahmed\",\n",
    "}\n",
    "student[\"subject\"] = \"python\"\n",
    "print(student)\n"
   ]
  },
  {
   "cell_type": "code",
   "execution_count": 55,
   "metadata": {},
   "outputs": [
    {
     "name": "stdout",
     "output_type": "stream",
     "text": [
      "70\n"
     ]
    }
   ],
   "source": [
    "#task4 sum all item in dictionary\n",
    "fruits = {\n",
    "    \"one apple\": 50,\n",
    "    \"one banana\":20,\n",
    "}\n",
    "\n",
    "print(sum(fruits.values()))"
   ]
  },
  {
   "cell_type": "code",
   "execution_count": null,
   "metadata": {},
   "outputs": [],
   "source": [
    "#task5 duplicate values:\n"
   ]
  },
  {
   "cell_type": "code",
   "execution_count": 65,
   "metadata": {},
   "outputs": [
    {
     "name": "stdout",
     "output_type": "stream",
     "text": [
      "Enter a Key7\n",
      "Key is not present in the dictionary\n"
     ]
    }
   ],
   "source": [
    "#task6 given key exist or not\n",
    "d = {1: 10, 2: 20, 3: 30, 4: 40, 5: 50, 6: 60}\n",
    "x = input(\"Enter a Key\")\n",
    "if x in d:\n",
    "        print('Key is present in the dictionary')\n",
    "else:\n",
    "        print('Key is not present in the dictionary')\n"
   ]
  },
  {
   "cell_type": "code",
   "execution_count": null,
   "metadata": {},
   "outputs": [],
   "source": []
  },
  {
   "cell_type": "code",
   "execution_count": null,
   "metadata": {},
   "outputs": [],
   "source": []
  },
  {
   "cell_type": "code",
   "execution_count": null,
   "metadata": {},
   "outputs": [],
   "source": []
  },
  {
   "cell_type": "code",
   "execution_count": null,
   "metadata": {},
   "outputs": [],
   "source": []
  }
 ],
 "metadata": {
  "kernelspec": {
   "display_name": "Python 2",
   "language": "python",
   "name": "python2"
  },
  "language_info": {
   "codemirror_mode": {
    "name": "ipython",
    "version": 2
   },
   "file_extension": ".py",
   "mimetype": "text/x-python",
   "name": "python",
   "nbconvert_exporter": "python",
   "pygments_lexer": "ipython2",
   "version": "2.7.16"
  }
 },
 "nbformat": 4,
 "nbformat_minor": 2
}
