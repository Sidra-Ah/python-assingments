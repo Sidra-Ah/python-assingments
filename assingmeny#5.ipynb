{
 "cells": [
  {
   "cell_type": "code",
   "execution_count": 2,
   "metadata": {},
   "outputs": [
    {
     "name": "stdout",
     "output_type": "stream",
     "text": [
      "Enter a number: 5\n",
      "120\n"
     ]
    }
   ],
   "source": [
    "# Q1\n",
    "def function(n):\n",
    "    if n == 0:\n",
    "        return 1\n",
    "    else:\n",
    "        return n * function(n-1)\n",
    "n = int(input(\"Enter a number: \"))\n",
    "print(function(n))\n"
   ]
  },
  {
   "cell_type": "code",
   "execution_count": 3,
   "metadata": {},
   "outputs": [
    {
     "name": "stdout",
     "output_type": "stream",
     "text": [
      "My name is Sidra Ahmed:\n",
      "('Upper case characters:', 3)\n",
      "('Lower case Characters:', 20)\n"
     ]
    }
   ],
   "source": [
    "#Q 2\n",
    "\n",
    "def func(alpha):\n",
    "    var={\"UPPERCASE\":0, \"lowercase\":0}\n",
    "    for a in alpha:\n",
    "        if a.isupper():\n",
    "           var[\"UPPERCASE\"]+=1\n",
    "        else: \n",
    "           var[\"lowercase\"]+=1\n",
    "       \n",
    "    print (alpha)\n",
    "    print (\"Upper case characters:\", var[\"UPPERCASE\"])\n",
    "    print (\"Lower case Characters:\", var[\"lowercase\"])\n",
    "func('My name is Sidra Ahmed:')"
   ]
  },
  {
   "cell_type": "code",
   "execution_count": 4,
   "metadata": {},
   "outputs": [
    {
     "name": "stdout",
     "output_type": "stream",
     "text": [
      "2\n",
      "4\n",
      "6\n",
      "8\n"
     ]
    }
   ],
   "source": [
    "#Q3\n",
    "\n",
    "list = [1,2,4,5,7,6,8]\n",
    "for num in list:\n",
    "    if num%2 == 0:\n",
    "        print(num)"
   ]
  },
  {
   "cell_type": "code",
   "execution_count": 5,
   "metadata": {},
   "outputs": [
    {
     "name": "stdout",
     "output_type": "stream",
     "text": [
      "Enter word: lol\n",
      "The string is a palindrome!\n"
     ]
    }
   ],
   "source": [
    "#Q4\n",
    "word = raw_input(\"Enter word: \")\n",
    "if (word == word[::-1]):\n",
    "    print(\"The string is a palindrome!\")\n",
    "else:\n",
    "    print(\"The string is not a palindrome!\")"
   ]
  },
  {
   "cell_type": "markdown",
   "metadata": {},
   "source": []
  },
  {
   "cell_type": "code",
   "execution_count": 13,
   "metadata": {},
   "outputs": [
    {
     "name": "stdout",
     "output_type": "stream",
     "text": [
      "Enter number: 6\n",
      "(6, 'is a prime number')\n"
     ]
    }
   ],
   "source": [
    "#Q5\n",
    "num = input(\"Enter number: \")\n",
    "if num > 1:\n",
    "    for i in range(2, num//2):\n",
    "        if(num % i) == 0:\n",
    "            print(num, \"is a prime number\")\n",
    "            break\n",
    "        else: \n",
    "            print(num, \"is not a prime number\")\n",
    "else:\n",
    "    print(num, \"is not a prime number\")"
   ]
  },
  {
   "cell_type": "code",
   "execution_count": 14,
   "metadata": {},
   "outputs": [
    {
     "name": "stdout",
     "output_type": "stream",
     "text": [
      "orange\n",
      "apple\n"
     ]
    }
   ],
   "source": [
    "#Q6\n",
    "def fruits(*fnames):\n",
    "    for fruit in fnames:\n",
    "        print(fruit)\n",
    "fruits(\"orange\",\"apple\")"
   ]
  },
  {
   "cell_type": "code",
   "execution_count": null,
   "metadata": {},
   "outputs": [],
   "source": []
  },
  {
   "cell_type": "code",
   "execution_count": null,
   "metadata": {},
   "outputs": [],
   "source": []
  }
 ],
 "metadata": {
  "kernelspec": {
   "display_name": "Python 2",
   "language": "python",
   "name": "python2"
  },
  "language_info": {
   "codemirror_mode": {
    "name": "ipython",
    "version": 2
   },
   "file_extension": ".py",
   "mimetype": "text/x-python",
   "name": "python",
   "nbconvert_exporter": "python",
   "pygments_lexer": "ipython2",
   "version": "2.7.16"
  }
 },
 "nbformat": 4,
 "nbformat_minor": 2
}
