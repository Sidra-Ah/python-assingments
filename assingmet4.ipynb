{
 "cells": [
  {
   "cell_type": "code",
   "execution_count": 10,
   "metadata": {},
   "outputs": [
    {
     "name": "stdout",
     "output_type": "stream",
     "text": [
      "{'city': 'Karachi', 'first_name': 'Sidra', 'last_name': 'Ahmed', 'age': '25'}\n"
     ]
    }
   ],
   "source": [
    "#Q1\n",
    "person = {\n",
    "        \"first_name\" : \"Sidra\",\n",
    "        \"last_name\" : \"Ahmed\",\n",
    "        \"age\" : \"25\",\n",
    "        \"city\" : \"Karachi\"\n",
    "    }\n",
    "person[\"Qualification\"] = \"Intermediate\"\n",
    "del person[\"Qualification\"] \n",
    "print(person)"
   ]
  },
  {
   "cell_type": "code",
   "execution_count": 108,
   "metadata": {},
   "outputs": [
    {
     "name": "stdout",
     "output_type": "stream",
     "text": [
      "Karachi\n",
      "('Pakistan', '197 million', 'Karachi is among the cheapest city to live in.')\n",
      "\n",
      "\n",
      "Sydney\n",
      "('Australia', '24.6 million', 'It is the 12th most expensive city with property prices averaging USD8,717 per square metre.')\n",
      "\n",
      "\n",
      "Istambul\n",
      "('Turkey', '80.81 million', 'Istanbul is the only city in the world which is both in Europe and Asia geographicaly.')\n"
     ]
    }
   ],
   "source": [
    "#Q2\n",
    "\n",
    "cities =   {\n",
    "     \"Karachi\" : \"a\",\n",
    "     \"Sydney\" : \"b\",\n",
    "     \"Istambul\" : \"c\"\n",
    "}\n",
    "info = {\n",
    "    \"Country\" :[\"Pakistan\",\"Australia\",\"Turkey\"],\n",
    "    \"Population\" :[\"197 million\",\"24.6 million\",\"80.81 million\"] ,\n",
    "    \"fact\" : [\"Karachi is among the cheapest city to live in.\",\"It is the 12th most expensive city with property prices averaging USD8,717 per square metre.\",\"Istanbul is the only city in the world which is both in Europe and Asia geographicaly.\"],\n",
    "}\n",
    "print(cities.keys()[0])\n",
    "print(info[\"Country\"][0],info[\"Population\"][0],info[\"fact\"][0])\n",
    "print(\"\\n\")\n",
    "print(cities.keys()[1])\n",
    "print(info[\"Country\"][1],info[\"Population\"][1],info[\"fact\"][1])\n",
    "print(\"\\n\")\n",
    "print(cities.keys()[2])\n",
    "print(info[\"Country\"][2],info[\"Population\"][2],info[\"fact\"][2])\n",
    "       "
   ]
  },
  {
   "cell_type": "code",
   "execution_count": 71,
   "metadata": {},
   "outputs": [
    {
     "name": "stdout",
     "output_type": "stream",
     "text": [
      "Enter Your Age:15\n",
      "The Price of the ticket is $15\n"
     ]
    }
   ],
   "source": [
    "#Q3\n",
    "age = input(\"Enter Your Age:\" )\n",
    "if age < 3:\n",
    "    print(\"Ticket is free for you!\")\n",
    "elif (age <12 and age > 3):\n",
    "    print(\"The Price of the ticket is $10\")\n",
    "elif age > 13:\n",
    "    print(\"The Price of the ticket is $15\")\n"
   ]
  },
  {
   "cell_type": "code",
   "execution_count": 112,
   "metadata": {},
   "outputs": [
    {
     "name": "stdout",
     "output_type": "stream",
     "text": [
      "One of my favourite book is: zaviya\n"
     ]
    }
   ],
   "source": [
    "#Q4\n",
    "def favorite_book(title):\n",
    "    print(\"One of my favourite book is: \"+title)\n",
    "favorite_book(\"zaviya\")\n",
    "    "
   ]
  },
  {
   "cell_type": "markdown",
   "metadata": {},
   "source": []
  },
  {
   "cell_type": "code",
   "execution_count": null,
   "metadata": {},
   "outputs": [],
   "source": [
    "#q5\n",
    "for num in range(31):\n",
    "    guess = input(\"Guess the number: \")\n",
    "if guess != num:\n",
    "    print(\"wrong guess!\")\n",
    "    guess = input(\"Guess the number: \")\n",
    "else:\n",
    "    print(\"right answer!\")\n"
   ]
  },
  {
   "cell_type": "code",
   "execution_count": null,
   "metadata": {},
   "outputs": [],
   "source": []
  },
  {
   "cell_type": "code",
   "execution_count": null,
   "metadata": {},
   "outputs": [],
   "source": []
  }
 ],
 "metadata": {
  "kernelspec": {
   "display_name": "Python 2",
   "language": "python",
   "name": "python2"
  },
  "language_info": {
   "codemirror_mode": {
    "name": "ipython",
    "version": 2
   },
   "file_extension": ".py",
   "mimetype": "text/x-python",
   "name": "python",
   "nbconvert_exporter": "python",
   "pygments_lexer": "ipython2",
   "version": "2.7.16"
  }
 },
 "nbformat": 4,
 "nbformat_minor": 2
}
