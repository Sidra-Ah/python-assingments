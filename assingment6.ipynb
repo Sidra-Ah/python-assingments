{
 "cells": [
  {
   "cell_type": "markdown",
   "metadata": {},
   "source": [
    "# OOP\n"
   ]
  },
  {
   "cell_type": "markdown",
   "metadata": {},
   "source": [
    "Stands for \"Object-Oriented Programming.\" refers to a programming methodology based on objects, instead of just functions and procedures. These objects are organized into classes, which allow individual objects to be grouped together."
   ]
  },
  {
   "cell_type": "markdown",
   "metadata": {},
   "source": [
    "# Benfits of oop:"
   ]
  },
  {
   "cell_type": "markdown",
   "metadata": {},
   "source": [
    "1. OOP provides a clear modular structure for programs.\n",
    "\n",
    "2. It is good for defining abstract data types.\n",
    "\n",
    "3. Implementation details are hidden from other modules.\n",
    "\n",
    "4. It is easy to maintain and modify existing code.\n",
    "\n",
    "5. It implements real life scenario.\n"
   ]
  },
  {
   "cell_type": "markdown",
   "metadata": {},
   "source": [
    "# differentiate between methods and function"
   ]
  },
  {
   "cell_type": "markdown",
   "metadata": {},
   "source": [
    "Method and a function are the same, with different terms. A method is a procedure or function in object-oriented programming.\n"
   ]
  },
  {
   "cell_type": "markdown",
   "metadata": {},
   "source": [
    "# Define Class, object, attribute, behaviour"
   ]
  },
  {
   "cell_type": "markdown",
   "metadata": {},
   "source": [
    "Class: A class is a code template for creating objects. Objects have member variables and have behaviour associated with them. "
   ]
  },
  {
   "cell_type": "markdown",
   "metadata": {},
   "source": [
    "object: object is an instance of a class. This is the realized version of the class, where the class is manifested in the program."
   ]
  },
  {
   "cell_type": "markdown",
   "metadata": {},
   "source": [
    "Attribute:  Attributes are a fundamental part of objects in Python. there are two types of attributes.\n",
    "1. Instance attribute: Instance attributes are attributes or properties attached to an instance of a class.\n",
    "Instance attributes are defined in the constructor.   \n",
    "2. Class Attributes: Class attributes are different from instance attributes. \n",
    "An attribute whose value is the same for all instances of a class is called a class attribute. "
   ]
  },
  {
   "cell_type": "code",
   "execution_count": 18,
   "metadata": {},
   "outputs": [
    {
     "name": "stdout",
     "output_type": "stream",
     "text": [
      "('audi', 'blue', 'a1', 5, 4)\n",
      "('vitz', 'white', 'v1', 5, 4)\n",
      "13 kilometers per liter\n",
      "Licence Approved!\n",
      "yes it has a tank\n",
      "It is Bullet proof!\n"
     ]
    }
   ],
   "source": [
    "class car():\n",
    "     def __init__(self,name,model,color,seats,doors):\n",
    "        self.name = name\n",
    "        self.model = model\n",
    "        self.color = color\n",
    "        self.seats = seats\n",
    "        self.doors = doors\n",
    "     def average(self,kilo):\n",
    "        print(\"{} kilometers per liter\".format(kilo))\n",
    "     def tank(self):\n",
    "        print(\"yes it has a tank\")\n",
    "     def driver(self,licence):\n",
    "        print(\"{}\".format(licence))\n",
    "     def bulletproof(self):\n",
    "        print(\"It is Bullet proof!\")\n",
    "  \n",
    "car1 = car(\"audi\",\"a1\",\"blue\",5,4)\n",
    "print(car1.name,car1.color,car1.model,car1.seats,car1.doors)\n",
    "car2 = car(\"vitz\",\"v1\",\"white\",5,4)\n",
    "print(car2.name,car2.color,car2.model,car2.seats,car2.doors)\n",
    "car1.average(13)\n",
    "car1.driver(\"Licence Approved!\")\n",
    "car1.tank()\n",
    "car1.bulletproof()"
   ]
  },
  {
   "cell_type": "code",
   "execution_count": null,
   "metadata": {},
   "outputs": [],
   "source": []
  }
 ],
 "metadata": {
  "kernelspec": {
   "display_name": "Python 2",
   "language": "python",
   "name": "python2"
  },
  "language_info": {
   "codemirror_mode": {
    "name": "ipython",
    "version": 2
   },
   "file_extension": ".py",
   "mimetype": "text/x-python",
   "name": "python",
   "nbconvert_exporter": "python",
   "pygments_lexer": "ipython2",
   "version": "2.7.16"
  }
 },
 "nbformat": 4,
 "nbformat_minor": 2
}
