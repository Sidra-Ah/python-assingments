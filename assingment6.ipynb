{
 "cells": [
  {
   "cell_type": "markdown",
   "metadata": {},
   "source": [
    "# OOP\n"
   ]
  },
  {
   "cell_type": "markdown",
   "metadata": {},
   "source": [
    "Stands for \"Object-Oriented Programming.\" refers to a programming methodology based on objects, instead of just functions and procedures. These objects are organized into classes, which allow individual objects to be grouped together."
   ]
  },
  {
   "cell_type": "markdown",
   "metadata": {},
   "source": [
    "# Benfits of oop:"
   ]
  },
  {
   "cell_type": "markdown",
   "metadata": {},
   "source": [
    "1. OOP provides a clear modular structure for programs.\n",
    "\n",
    "2. It is good for defining abstract data types.\n",
    "\n",
    "3. Implementation details are hidden from other modules.\n",
    "\n",
    "4. It is easy to maintain and modify existing code.\n",
    "\n",
    "5. It implements real life scenario.\n"
   ]
  },
  {
   "cell_type": "markdown",
   "metadata": {},
   "source": [
    "# differentiate between methods and function"
   ]
  },
  {
   "cell_type": "markdown",
   "metadata": {},
   "source": [
    "Method and a function are the same, with different terms. A method is a procedure or function in object-oriented programming.\n"
   ]
  },
  {
   "cell_type": "markdown",
   "metadata": {},
   "source": [
    "# Define Class, object, attribute, behaviour"
   ]
  },
  {
   "cell_type": "markdown",
   "metadata": {},
   "source": [
    "Class: A class is a code template for creating objects. Objects have member variables and have behaviour associated with them. "
   ]
  },
  {
   "cell_type": "markdown",
   "metadata": {},
   "source": [
    "object: object is an instance of a class. This is the realized version of the class, where the class is manifested in the program."
   ]
  },
  {
   "cell_type": "markdown",
   "metadata": {},
   "source": [
    "Attribute:  Attributes are a fundamental part of objects in Python. there are two types of attributes.\n",
    "1. Instance attribute: Instance attributes are attributes or properties attached to an instance of a class.\n",
    "Instance attributes are defined in the constructor.   \n",
    "2. Class Attributes: Class attributes are different from instance attributes. \n",
    "An attribute whose value is the same for all instances of a class is called a class attribute. "
   ]
  },
  {
   "cell_type": "code",
   "execution_count": null,
   "metadata": {},
   "outputs": [],
   "source": []
  }
 ],
 "metadata": {
  "kernelspec": {
   "display_name": "Python 2",
   "language": "python",
   "name": "python2"
  },
  "language_info": {
   "codemirror_mode": {
    "name": "ipython",
    "version": 2
   },
   "file_extension": ".py",
   "mimetype": "text/x-python",
   "name": "python",
   "nbconvert_exporter": "python",
   "pygments_lexer": "ipython2",
   "version": "2.7.16"
  }
 },
 "nbformat": 4,
 "nbformat_minor": 2
}
